{
  "nbformat": 4,
  "nbformat_minor": 0,
  "metadata": {
    "colab": {
      "name": "Final_Proj.ipynb",
      "provenance": [],
      "collapsed_sections": []
    },
    "kernelspec": {
      "name": "python3",
      "display_name": "Python 3"
    },
    "language_info": {
      "name": "python"
    }
  },
  "cells": [
    {
      "cell_type": "code",
      "metadata": {
        "colab": {
          "base_uri": "https://localhost:8080/"
        },
        "id": "VuTmFwVsDlSi",
        "outputId": "329243e1-bbc2-4ec5-95fa-a362535405eb"
      },
      "source": [
        "from google.colab import drive\n",
        "drive.mount('/content/drive')"
      ],
      "execution_count": 45,
      "outputs": [
        {
          "output_type": "stream",
          "name": "stdout",
          "text": [
            "Drive already mounted at /content/drive; to attempt to forcibly remount, call drive.mount(\"/content/drive\", force_remount=True).\n"
          ]
        }
      ]
    },
    {
      "cell_type": "code",
      "metadata": {
        "colab": {
          "base_uri": "https://localhost:8080/"
        },
        "id": "N5Ltqy9yyl2I",
        "outputId": "1f50e4aa-a773-4e46-9b72-5d5d390f3504"
      },
      "source": [
        "cd /content/drive/MyDrive/"
      ],
      "execution_count": 46,
      "outputs": [
        {
          "output_type": "stream",
          "name": "stdout",
          "text": [
            "/content/drive/MyDrive\n"
          ]
        }
      ]
    },
    {
      "cell_type": "code",
      "metadata": {
        "colab": {
          "base_uri": "https://localhost:8080/"
        },
        "id": "u5J3tXYZFJZL",
        "outputId": "eb43ea03-ef71-4526-e8d8-2eb7ab3fc63d"
      },
      "source": [
        "ls"
      ],
      "execution_count": 47,
      "outputs": [
        {
          "output_type": "stream",
          "name": "stdout",
          "text": [
            "\u001b[0m\u001b[01;34m'Colab Notebooks'\u001b[0m/   \u001b[01;34mFinalProject_DM\u001b[0m/   \u001b[01;34mProject\u001b[0m/\n"
          ]
        }
      ]
    },
    {
      "cell_type": "code",
      "metadata": {
        "colab": {
          "base_uri": "https://localhost:8080/"
        },
        "id": "qOwoepkdFMUK",
        "outputId": "efbdaaca-b055-4433-a5af-cf715de3cc62"
      },
      "source": [
        "cd FinalProject_DM/"
      ],
      "execution_count": 48,
      "outputs": [
        {
          "output_type": "stream",
          "name": "stdout",
          "text": [
            "/content/drive/MyDrive/FinalProject_DM\n"
          ]
        }
      ]
    },
    {
      "cell_type": "code",
      "metadata": {
        "colab": {
          "base_uri": "https://localhost:8080/",
          "height": 35
        },
        "id": "x1IlbFfKFP4w",
        "outputId": "8cb32985-9aed-4f6c-8664-dcd600f38b35"
      },
      "source": [
        "pwd"
      ],
      "execution_count": 49,
      "outputs": [
        {
          "output_type": "execute_result",
          "data": {
            "application/vnd.google.colaboratory.intrinsic+json": {
              "type": "string"
            },
            "text/plain": [
              "'/content/drive/MyDrive/FinalProject_DM'"
            ]
          },
          "metadata": {},
          "execution_count": 49
        }
      ]
    },
    {
      "cell_type": "code",
      "metadata": {
        "id": "dk79UEwsynAL"
      },
      "source": [
        "# Importing the important libraries\n",
        "\n",
        "import numpy as np\n",
        "import random\n",
        "import pandas as pd\n",
        "\n",
        "from sklearn.neighbors import KNeighborsClassifier\n",
        "from sklearn.preprocessing import StandardScaler , MinMaxScaler\n",
        "from sklearn.model_selection import train_test_split\n",
        "from sklearn.metrics import classification_report , confusion_matrix, accuracy_score, f1_score\n",
        "\n",
        "from sklearn.preprocessing import LabelEncoder, StandardScaler\n",
        "from sklearn.ensemble import RandomForestClassifier \n",
        "from sklearn.model_selection import StratifiedKFold, RandomizedSearchCV\n",
        "\n",
        "\n",
        "import warnings\n",
        "warnings.filterwarnings('ignore')\n"
      ],
      "execution_count": 50,
      "outputs": []
    },
    {
      "cell_type": "code",
      "metadata": {
        "colab": {
          "base_uri": "https://localhost:8080/",
          "height": 206
        },
        "id": "MnW9mQavyt5m",
        "outputId": "183b602c-2f2f-495f-9deb-647d1c0f0876"
      },
      "source": [
        "# Loading the dataset\n",
        "\n",
        "df = pd.read_csv('heart.csv')\n",
        "df.head()"
      ],
      "execution_count": 51,
      "outputs": [
        {
          "output_type": "execute_result",
          "data": {
            "text/html": [
              "<div>\n",
              "<style scoped>\n",
              "    .dataframe tbody tr th:only-of-type {\n",
              "        vertical-align: middle;\n",
              "    }\n",
              "\n",
              "    .dataframe tbody tr th {\n",
              "        vertical-align: top;\n",
              "    }\n",
              "\n",
              "    .dataframe thead th {\n",
              "        text-align: right;\n",
              "    }\n",
              "</style>\n",
              "<table border=\"1\" class=\"dataframe\">\n",
              "  <thead>\n",
              "    <tr style=\"text-align: right;\">\n",
              "      <th></th>\n",
              "      <th>Age</th>\n",
              "      <th>Sex</th>\n",
              "      <th>ChestPainType</th>\n",
              "      <th>RestingBP</th>\n",
              "      <th>Cholesterol</th>\n",
              "      <th>FastingBS</th>\n",
              "      <th>RestingECG</th>\n",
              "      <th>MaxHR</th>\n",
              "      <th>ExerciseAngina</th>\n",
              "      <th>Oldpeak</th>\n",
              "      <th>ST_Slope</th>\n",
              "      <th>HeartDisease</th>\n",
              "    </tr>\n",
              "  </thead>\n",
              "  <tbody>\n",
              "    <tr>\n",
              "      <th>0</th>\n",
              "      <td>40</td>\n",
              "      <td>M</td>\n",
              "      <td>ATA</td>\n",
              "      <td>140</td>\n",
              "      <td>289</td>\n",
              "      <td>0</td>\n",
              "      <td>Normal</td>\n",
              "      <td>172</td>\n",
              "      <td>N</td>\n",
              "      <td>0.0</td>\n",
              "      <td>Up</td>\n",
              "      <td>0</td>\n",
              "    </tr>\n",
              "    <tr>\n",
              "      <th>1</th>\n",
              "      <td>49</td>\n",
              "      <td>F</td>\n",
              "      <td>NAP</td>\n",
              "      <td>160</td>\n",
              "      <td>180</td>\n",
              "      <td>0</td>\n",
              "      <td>Normal</td>\n",
              "      <td>156</td>\n",
              "      <td>N</td>\n",
              "      <td>1.0</td>\n",
              "      <td>Flat</td>\n",
              "      <td>1</td>\n",
              "    </tr>\n",
              "    <tr>\n",
              "      <th>2</th>\n",
              "      <td>37</td>\n",
              "      <td>M</td>\n",
              "      <td>ATA</td>\n",
              "      <td>130</td>\n",
              "      <td>283</td>\n",
              "      <td>0</td>\n",
              "      <td>ST</td>\n",
              "      <td>98</td>\n",
              "      <td>N</td>\n",
              "      <td>0.0</td>\n",
              "      <td>Up</td>\n",
              "      <td>0</td>\n",
              "    </tr>\n",
              "    <tr>\n",
              "      <th>3</th>\n",
              "      <td>48</td>\n",
              "      <td>F</td>\n",
              "      <td>ASY</td>\n",
              "      <td>138</td>\n",
              "      <td>214</td>\n",
              "      <td>0</td>\n",
              "      <td>Normal</td>\n",
              "      <td>108</td>\n",
              "      <td>Y</td>\n",
              "      <td>1.5</td>\n",
              "      <td>Flat</td>\n",
              "      <td>1</td>\n",
              "    </tr>\n",
              "    <tr>\n",
              "      <th>4</th>\n",
              "      <td>54</td>\n",
              "      <td>M</td>\n",
              "      <td>NAP</td>\n",
              "      <td>150</td>\n",
              "      <td>195</td>\n",
              "      <td>0</td>\n",
              "      <td>Normal</td>\n",
              "      <td>122</td>\n",
              "      <td>N</td>\n",
              "      <td>0.0</td>\n",
              "      <td>Up</td>\n",
              "      <td>0</td>\n",
              "    </tr>\n",
              "  </tbody>\n",
              "</table>\n",
              "</div>"
            ],
            "text/plain": [
              "   Age Sex ChestPainType  ...  Oldpeak  ST_Slope  HeartDisease\n",
              "0   40   M           ATA  ...      0.0        Up             0\n",
              "1   49   F           NAP  ...      1.0      Flat             1\n",
              "2   37   M           ATA  ...      0.0        Up             0\n",
              "3   48   F           ASY  ...      1.5      Flat             1\n",
              "4   54   M           NAP  ...      0.0        Up             0\n",
              "\n",
              "[5 rows x 12 columns]"
            ]
          },
          "metadata": {},
          "execution_count": 51
        }
      ]
    },
    {
      "cell_type": "code",
      "metadata": {
        "colab": {
          "base_uri": "https://localhost:8080/"
        },
        "id": "xGVKjzk5yt8I",
        "outputId": "86450d06-da38-43d6-f7b3-00edfe4354e4"
      },
      "source": [
        "print(df.shape)\n",
        "print(df[\"HeartDisease\"].value_counts())"
      ],
      "execution_count": 52,
      "outputs": [
        {
          "output_type": "stream",
          "name": "stdout",
          "text": [
            "(918, 12)\n",
            "1    508\n",
            "0    410\n",
            "Name: HeartDisease, dtype: int64\n"
          ]
        }
      ]
    },
    {
      "cell_type": "code",
      "metadata": {
        "colab": {
          "base_uri": "https://localhost:8080/"
        },
        "id": "IhXNP_vA4aGa",
        "outputId": "783eccc4-8fc7-4eb8-9786-83b71c1fd92f"
      },
      "source": [
        "df.isnull().sum()"
      ],
      "execution_count": 53,
      "outputs": [
        {
          "output_type": "execute_result",
          "data": {
            "text/plain": [
              "Age               0\n",
              "Sex               0\n",
              "ChestPainType     0\n",
              "RestingBP         0\n",
              "Cholesterol       0\n",
              "FastingBS         0\n",
              "RestingECG        0\n",
              "MaxHR             0\n",
              "ExerciseAngina    0\n",
              "Oldpeak           0\n",
              "ST_Slope          0\n",
              "HeartDisease      0\n",
              "dtype: int64"
            ]
          },
          "metadata": {},
          "execution_count": 53
        }
      ]
    },
    {
      "cell_type": "code",
      "metadata": {
        "colab": {
          "base_uri": "https://localhost:8080/",
          "height": 300
        },
        "id": "LGG3sONCyt_J",
        "outputId": "930e168c-db92-4bdb-80dd-5edb4d6e78f0"
      },
      "source": [
        "df.describe()"
      ],
      "execution_count": 54,
      "outputs": [
        {
          "output_type": "execute_result",
          "data": {
            "text/html": [
              "<div>\n",
              "<style scoped>\n",
              "    .dataframe tbody tr th:only-of-type {\n",
              "        vertical-align: middle;\n",
              "    }\n",
              "\n",
              "    .dataframe tbody tr th {\n",
              "        vertical-align: top;\n",
              "    }\n",
              "\n",
              "    .dataframe thead th {\n",
              "        text-align: right;\n",
              "    }\n",
              "</style>\n",
              "<table border=\"1\" class=\"dataframe\">\n",
              "  <thead>\n",
              "    <tr style=\"text-align: right;\">\n",
              "      <th></th>\n",
              "      <th>Age</th>\n",
              "      <th>RestingBP</th>\n",
              "      <th>Cholesterol</th>\n",
              "      <th>FastingBS</th>\n",
              "      <th>MaxHR</th>\n",
              "      <th>Oldpeak</th>\n",
              "      <th>HeartDisease</th>\n",
              "    </tr>\n",
              "  </thead>\n",
              "  <tbody>\n",
              "    <tr>\n",
              "      <th>count</th>\n",
              "      <td>918.000000</td>\n",
              "      <td>918.000000</td>\n",
              "      <td>918.000000</td>\n",
              "      <td>918.000000</td>\n",
              "      <td>918.000000</td>\n",
              "      <td>918.000000</td>\n",
              "      <td>918.000000</td>\n",
              "    </tr>\n",
              "    <tr>\n",
              "      <th>mean</th>\n",
              "      <td>53.510893</td>\n",
              "      <td>132.396514</td>\n",
              "      <td>198.799564</td>\n",
              "      <td>0.233115</td>\n",
              "      <td>136.809368</td>\n",
              "      <td>0.887364</td>\n",
              "      <td>0.553377</td>\n",
              "    </tr>\n",
              "    <tr>\n",
              "      <th>std</th>\n",
              "      <td>9.432617</td>\n",
              "      <td>18.514154</td>\n",
              "      <td>109.384145</td>\n",
              "      <td>0.423046</td>\n",
              "      <td>25.460334</td>\n",
              "      <td>1.066570</td>\n",
              "      <td>0.497414</td>\n",
              "    </tr>\n",
              "    <tr>\n",
              "      <th>min</th>\n",
              "      <td>28.000000</td>\n",
              "      <td>0.000000</td>\n",
              "      <td>0.000000</td>\n",
              "      <td>0.000000</td>\n",
              "      <td>60.000000</td>\n",
              "      <td>-2.600000</td>\n",
              "      <td>0.000000</td>\n",
              "    </tr>\n",
              "    <tr>\n",
              "      <th>25%</th>\n",
              "      <td>47.000000</td>\n",
              "      <td>120.000000</td>\n",
              "      <td>173.250000</td>\n",
              "      <td>0.000000</td>\n",
              "      <td>120.000000</td>\n",
              "      <td>0.000000</td>\n",
              "      <td>0.000000</td>\n",
              "    </tr>\n",
              "    <tr>\n",
              "      <th>50%</th>\n",
              "      <td>54.000000</td>\n",
              "      <td>130.000000</td>\n",
              "      <td>223.000000</td>\n",
              "      <td>0.000000</td>\n",
              "      <td>138.000000</td>\n",
              "      <td>0.600000</td>\n",
              "      <td>1.000000</td>\n",
              "    </tr>\n",
              "    <tr>\n",
              "      <th>75%</th>\n",
              "      <td>60.000000</td>\n",
              "      <td>140.000000</td>\n",
              "      <td>267.000000</td>\n",
              "      <td>0.000000</td>\n",
              "      <td>156.000000</td>\n",
              "      <td>1.500000</td>\n",
              "      <td>1.000000</td>\n",
              "    </tr>\n",
              "    <tr>\n",
              "      <th>max</th>\n",
              "      <td>77.000000</td>\n",
              "      <td>200.000000</td>\n",
              "      <td>603.000000</td>\n",
              "      <td>1.000000</td>\n",
              "      <td>202.000000</td>\n",
              "      <td>6.200000</td>\n",
              "      <td>1.000000</td>\n",
              "    </tr>\n",
              "  </tbody>\n",
              "</table>\n",
              "</div>"
            ],
            "text/plain": [
              "              Age   RestingBP  ...     Oldpeak  HeartDisease\n",
              "count  918.000000  918.000000  ...  918.000000    918.000000\n",
              "mean    53.510893  132.396514  ...    0.887364      0.553377\n",
              "std      9.432617   18.514154  ...    1.066570      0.497414\n",
              "min     28.000000    0.000000  ...   -2.600000      0.000000\n",
              "25%     47.000000  120.000000  ...    0.000000      0.000000\n",
              "50%     54.000000  130.000000  ...    0.600000      1.000000\n",
              "75%     60.000000  140.000000  ...    1.500000      1.000000\n",
              "max     77.000000  200.000000  ...    6.200000      1.000000\n",
              "\n",
              "[8 rows x 7 columns]"
            ]
          },
          "metadata": {},
          "execution_count": 54
        }
      ]
    },
    {
      "cell_type": "code",
      "metadata": {
        "colab": {
          "base_uri": "https://localhost:8080/"
        },
        "id": "ImSwD0n7yuBT",
        "outputId": "6b448592-f126-43b3-a697-6641f8c2f21f"
      },
      "source": [
        "df.info()"
      ],
      "execution_count": 55,
      "outputs": [
        {
          "output_type": "stream",
          "name": "stdout",
          "text": [
            "<class 'pandas.core.frame.DataFrame'>\n",
            "RangeIndex: 918 entries, 0 to 917\n",
            "Data columns (total 12 columns):\n",
            " #   Column          Non-Null Count  Dtype  \n",
            "---  ------          --------------  -----  \n",
            " 0   Age             918 non-null    int64  \n",
            " 1   Sex             918 non-null    object \n",
            " 2   ChestPainType   918 non-null    object \n",
            " 3   RestingBP       918 non-null    int64  \n",
            " 4   Cholesterol     918 non-null    int64  \n",
            " 5   FastingBS       918 non-null    int64  \n",
            " 6   RestingECG      918 non-null    object \n",
            " 7   MaxHR           918 non-null    int64  \n",
            " 8   ExerciseAngina  918 non-null    object \n",
            " 9   Oldpeak         918 non-null    float64\n",
            " 10  ST_Slope        918 non-null    object \n",
            " 11  HeartDisease    918 non-null    int64  \n",
            "dtypes: float64(1), int64(6), object(5)\n",
            "memory usage: 86.2+ KB\n"
          ]
        }
      ]
    },
    {
      "cell_type": "code",
      "metadata": {
        "id": "yAEcY53ryuDt"
      },
      "source": [
        "# Seperating the dependent and the independent columns\n",
        "\n",
        "X = df.drop(\"HeartDisease\" , axis = 1)\n",
        "y = df['HeartDisease']"
      ],
      "execution_count": 56,
      "outputs": []
    },
    {
      "cell_type": "code",
      "metadata": {
        "id": "Umq7iFJ1yuGX"
      },
      "source": [
        "# Seperating the numerical and the categorical columns\n",
        "\n",
        "cat_cols = list(df.select_dtypes(include=['object']).columns)\n",
        "num_cols = []\n",
        "\n",
        "for i in list(X.columns):\n",
        "  if i not in cat_cols:\n",
        "    num_cols.append(i)"
      ],
      "execution_count": 57,
      "outputs": []
    },
    {
      "cell_type": "code",
      "metadata": {
        "colab": {
          "base_uri": "https://localhost:8080/"
        },
        "id": "sxJrZspzGuZW",
        "outputId": "6eb3be5e-f7ee-4409-d22d-489ff6618bdd"
      },
      "source": [
        "print(cat_cols , num_cols)"
      ],
      "execution_count": 58,
      "outputs": [
        {
          "output_type": "stream",
          "name": "stdout",
          "text": [
            "['Sex', 'ChestPainType', 'RestingECG', 'ExerciseAngina', 'ST_Slope'] ['Age', 'RestingBP', 'Cholesterol', 'FastingBS', 'MaxHR', 'Oldpeak']\n"
          ]
        }
      ]
    },
    {
      "cell_type": "code",
      "metadata": {
        "id": "XDVR16NNyuLb"
      },
      "source": [
        "normal_cols = [\"Age\",\"MaxHR\",\"RestingBP\"]\n",
        "for col in normal_cols:\n",
        "    mean = np.mean(df[col])\n",
        "    std = np.std(df[col])\n",
        "    lower_range = mean - (3*std)\n",
        "    upper_range = mean + (3*std)\n",
        "    df[col] = np.where(((df[col] < lower_range) | (df[col] > upper_range))\n",
        "                            ,random.randint(int(lower_range),int(upper_range)),df[col])"
      ],
      "execution_count": 59,
      "outputs": []
    },
    {
      "cell_type": "code",
      "metadata": {
        "id": "7ivB1o1JyuNu"
      },
      "source": [
        "IQR = np.percentile(df[\"Cholesterol\"],75) - np.percentile(df[\"Cholesterol\"],25)\n",
        "lower_bound = np.percentile(df[\"Cholesterol\"],25) - 1.5 * IQR\n",
        "upper_bound = np.percentile(df[\"Cholesterol\"],75) + 1.5 * IQR\n",
        "median_cholesterol = np.median(df[\"Cholesterol\"])\n",
        "\n",
        "df[\"Cholesterol\"] = np.where(((df[\"Cholesterol\"] > upper_bound) | (df[\"Cholesterol\"] < lower_bound)) \n",
        "                                 ,random.randint(int(np.percentile(df[\"Cholesterol\"],25)),\n",
        "                                                 int(np.percentile(df[\"Cholesterol\"],75))),df[\"Cholesterol\"])"
      ],
      "execution_count": 60,
      "outputs": []
    },
    {
      "cell_type": "code",
      "metadata": {
        "id": "wSbor3uQyuQy"
      },
      "source": [
        "# Seperating the train and test dataset\n",
        "x_train,x_test,y_train,y_test = train_test_split(X,y,stratify = y , random_state=42,test_size=0.2)"
      ],
      "execution_count": 61,
      "outputs": []
    },
    {
      "cell_type": "code",
      "metadata": {
        "colab": {
          "base_uri": "https://localhost:8080/",
          "height": 143
        },
        "id": "Dyuf7Na3OWWL",
        "outputId": "3e4b45b0-958c-45bb-c86c-c5635b86f00f"
      },
      "source": [
        "x_train[:3]"
      ],
      "execution_count": 62,
      "outputs": [
        {
          "output_type": "execute_result",
          "data": {
            "text/html": [
              "<div>\n",
              "<style scoped>\n",
              "    .dataframe tbody tr th:only-of-type {\n",
              "        vertical-align: middle;\n",
              "    }\n",
              "\n",
              "    .dataframe tbody tr th {\n",
              "        vertical-align: top;\n",
              "    }\n",
              "\n",
              "    .dataframe thead th {\n",
              "        text-align: right;\n",
              "    }\n",
              "</style>\n",
              "<table border=\"1\" class=\"dataframe\">\n",
              "  <thead>\n",
              "    <tr style=\"text-align: right;\">\n",
              "      <th></th>\n",
              "      <th>Age</th>\n",
              "      <th>Sex</th>\n",
              "      <th>ChestPainType</th>\n",
              "      <th>RestingBP</th>\n",
              "      <th>Cholesterol</th>\n",
              "      <th>FastingBS</th>\n",
              "      <th>RestingECG</th>\n",
              "      <th>MaxHR</th>\n",
              "      <th>ExerciseAngina</th>\n",
              "      <th>Oldpeak</th>\n",
              "      <th>ST_Slope</th>\n",
              "    </tr>\n",
              "  </thead>\n",
              "  <tbody>\n",
              "    <tr>\n",
              "      <th>485</th>\n",
              "      <td>63</td>\n",
              "      <td>M</td>\n",
              "      <td>ATA</td>\n",
              "      <td>139</td>\n",
              "      <td>217</td>\n",
              "      <td>1</td>\n",
              "      <td>ST</td>\n",
              "      <td>128</td>\n",
              "      <td>Y</td>\n",
              "      <td>1.2</td>\n",
              "      <td>Flat</td>\n",
              "    </tr>\n",
              "    <tr>\n",
              "      <th>486</th>\n",
              "      <td>55</td>\n",
              "      <td>M</td>\n",
              "      <td>ATA</td>\n",
              "      <td>110</td>\n",
              "      <td>214</td>\n",
              "      <td>1</td>\n",
              "      <td>ST</td>\n",
              "      <td>180</td>\n",
              "      <td>N</td>\n",
              "      <td>0.4</td>\n",
              "      <td>Up</td>\n",
              "    </tr>\n",
              "    <tr>\n",
              "      <th>117</th>\n",
              "      <td>59</td>\n",
              "      <td>F</td>\n",
              "      <td>ASY</td>\n",
              "      <td>130</td>\n",
              "      <td>338</td>\n",
              "      <td>1</td>\n",
              "      <td>ST</td>\n",
              "      <td>130</td>\n",
              "      <td>Y</td>\n",
              "      <td>1.5</td>\n",
              "      <td>Flat</td>\n",
              "    </tr>\n",
              "  </tbody>\n",
              "</table>\n",
              "</div>"
            ],
            "text/plain": [
              "     Age Sex ChestPainType  RestingBP  ...  MaxHR  ExerciseAngina Oldpeak  ST_Slope\n",
              "485   63   M           ATA        139  ...    128               Y     1.2      Flat\n",
              "486   55   M           ATA        110  ...    180               N     0.4        Up\n",
              "117   59   F           ASY        130  ...    130               Y     1.5      Flat\n",
              "\n",
              "[3 rows x 11 columns]"
            ]
          },
          "metadata": {},
          "execution_count": 62
        }
      ]
    },
    {
      "cell_type": "code",
      "metadata": {
        "id": "vyZEOsewoYZN"
      },
      "source": [
        "# Standardadising the features of training and testing dataset\n",
        "\n",
        "scaler = StandardScaler()\n",
        "scaler.fit(X[num_cols])\n",
        "X[num_cols] = scaler.transform(X[num_cols])"
      ],
      "execution_count": 63,
      "outputs": []
    },
    {
      "cell_type": "code",
      "metadata": {
        "id": "Sspt7TFaoqFP"
      },
      "source": [
        "X = pd.get_dummies(data = X , drop_first=True)"
      ],
      "execution_count": 64,
      "outputs": []
    },
    {
      "cell_type": "code",
      "metadata": {
        "id": "bBQWTmBTpF38"
      },
      "source": [
        "# Seperating the train and test dataset\n",
        "x_train,x_test,y_train,y_test = train_test_split(X,y,stratify = y , random_state=42,test_size=0.2)"
      ],
      "execution_count": 65,
      "outputs": []
    },
    {
      "cell_type": "code",
      "metadata": {
        "colab": {
          "base_uri": "https://localhost:8080/",
          "height": 163
        },
        "id": "36047uG3OdV-",
        "outputId": "ecb39ab1-3b7f-4eea-ebe4-7a44fbac1d58"
      },
      "source": [
        "x_train[:3]"
      ],
      "execution_count": 66,
      "outputs": [
        {
          "output_type": "execute_result",
          "data": {
            "text/html": [
              "<div>\n",
              "<style scoped>\n",
              "    .dataframe tbody tr th:only-of-type {\n",
              "        vertical-align: middle;\n",
              "    }\n",
              "\n",
              "    .dataframe tbody tr th {\n",
              "        vertical-align: top;\n",
              "    }\n",
              "\n",
              "    .dataframe thead th {\n",
              "        text-align: right;\n",
              "    }\n",
              "</style>\n",
              "<table border=\"1\" class=\"dataframe\">\n",
              "  <thead>\n",
              "    <tr style=\"text-align: right;\">\n",
              "      <th></th>\n",
              "      <th>Age</th>\n",
              "      <th>RestingBP</th>\n",
              "      <th>Cholesterol</th>\n",
              "      <th>FastingBS</th>\n",
              "      <th>MaxHR</th>\n",
              "      <th>Oldpeak</th>\n",
              "      <th>Sex_M</th>\n",
              "      <th>ChestPainType_ATA</th>\n",
              "      <th>ChestPainType_NAP</th>\n",
              "      <th>ChestPainType_TA</th>\n",
              "      <th>RestingECG_Normal</th>\n",
              "      <th>RestingECG_ST</th>\n",
              "      <th>ExerciseAngina_Y</th>\n",
              "      <th>ST_Slope_Flat</th>\n",
              "      <th>ST_Slope_Up</th>\n",
              "    </tr>\n",
              "  </thead>\n",
              "  <tbody>\n",
              "    <tr>\n",
              "      <th>485</th>\n",
              "      <td>1.006537</td>\n",
              "      <td>0.356867</td>\n",
              "      <td>0.166481</td>\n",
              "      <td>1.813758</td>\n",
              "      <td>-0.346192</td>\n",
              "      <td>0.293283</td>\n",
              "      <td>1</td>\n",
              "      <td>1</td>\n",
              "      <td>0</td>\n",
              "      <td>0</td>\n",
              "      <td>0</td>\n",
              "      <td>1</td>\n",
              "      <td>1</td>\n",
              "      <td>1</td>\n",
              "      <td>0</td>\n",
              "    </tr>\n",
              "    <tr>\n",
              "      <th>486</th>\n",
              "      <td>0.157954</td>\n",
              "      <td>-1.210356</td>\n",
              "      <td>0.139040</td>\n",
              "      <td>1.813758</td>\n",
              "      <td>1.697314</td>\n",
              "      <td>-0.457194</td>\n",
              "      <td>1</td>\n",
              "      <td>1</td>\n",
              "      <td>0</td>\n",
              "      <td>0</td>\n",
              "      <td>0</td>\n",
              "      <td>1</td>\n",
              "      <td>0</td>\n",
              "      <td>0</td>\n",
              "      <td>1</td>\n",
              "    </tr>\n",
              "    <tr>\n",
              "      <th>117</th>\n",
              "      <td>0.582246</td>\n",
              "      <td>-0.129513</td>\n",
              "      <td>1.273277</td>\n",
              "      <td>1.813758</td>\n",
              "      <td>-0.267596</td>\n",
              "      <td>0.574711</td>\n",
              "      <td>0</td>\n",
              "      <td>0</td>\n",
              "      <td>0</td>\n",
              "      <td>0</td>\n",
              "      <td>0</td>\n",
              "      <td>1</td>\n",
              "      <td>1</td>\n",
              "      <td>1</td>\n",
              "      <td>0</td>\n",
              "    </tr>\n",
              "  </tbody>\n",
              "</table>\n",
              "</div>"
            ],
            "text/plain": [
              "          Age  RestingBP  ...  ST_Slope_Flat  ST_Slope_Up\n",
              "485  1.006537   0.356867  ...              1            0\n",
              "486  0.157954  -1.210356  ...              0            1\n",
              "117  0.582246  -0.129513  ...              1            0\n",
              "\n",
              "[3 rows x 15 columns]"
            ]
          },
          "metadata": {},
          "execution_count": 66
        }
      ]
    },
    {
      "cell_type": "markdown",
      "metadata": {
        "id": "NL8UnlpQ6Qp2"
      },
      "source": [
        "# KNN Algorithm"
      ]
    },
    {
      "cell_type": "code",
      "metadata": {
        "colab": {
          "base_uri": "https://localhost:8080/"
        },
        "id": "_byxMLKTyujR",
        "outputId": "84f2e474-028f-4e93-f67d-9f947221dc80"
      },
      "source": [
        "knn = KNeighborsClassifier(n_neighbors=7)\n",
        "knn.fit(x_train,y_train)\n",
        "y_pred_knn = knn.predict(x_test)\n",
        "\n",
        "print(knn.score(x_test,y_test))\n",
        "print(classification_report(y_test,y_pred_knn))\n",
        "print(confusion_matrix(y_test,y_pred_knn))\n",
        "#compare with table"
      ],
      "execution_count": 67,
      "outputs": [
        {
          "output_type": "stream",
          "name": "stdout",
          "text": [
            "0.8967391304347826\n",
            "              precision    recall  f1-score   support\n",
            "\n",
            "           0       0.90      0.87      0.88        82\n",
            "           1       0.90      0.92      0.91       102\n",
            "\n",
            "    accuracy                           0.90       184\n",
            "   macro avg       0.90      0.89      0.90       184\n",
            "weighted avg       0.90      0.90      0.90       184\n",
            "\n",
            "[[71 11]\n",
            " [ 8 94]]\n"
          ]
        }
      ]
    },
    {
      "cell_type": "markdown",
      "metadata": {
        "id": "zvGCrabc6Wdt"
      },
      "source": [
        "# SVM Algorithm"
      ]
    },
    {
      "cell_type": "code",
      "metadata": {
        "colab": {
          "base_uri": "https://localhost:8080/"
        },
        "id": "hGQ0asR50s1R",
        "outputId": "e1980b31-1ece-420e-c250-7e0ea5943b0f"
      },
      "source": [
        "from sklearn.svm import SVC\n",
        "classifier = SVC(kernel='rbf', random_state=27)\n",
        "classifier.fit(x_train, y_train)"
      ],
      "execution_count": 68,
      "outputs": [
        {
          "output_type": "execute_result",
          "data": {
            "text/plain": [
              "SVC(random_state=27)"
            ]
          },
          "metadata": {},
          "execution_count": 68
        }
      ]
    },
    {
      "cell_type": "code",
      "metadata": {
        "id": "nUww2jet5IPf"
      },
      "source": [
        "y_pred_svm = classifier.predict(x_test)"
      ],
      "execution_count": 69,
      "outputs": []
    },
    {
      "cell_type": "code",
      "metadata": {
        "colab": {
          "base_uri": "https://localhost:8080/"
        },
        "id": "Xjoqk9cE5MuA",
        "outputId": "c179bdf5-26b4-473b-b8dc-57c4c3b343ba"
      },
      "source": [
        "print(classifier.score(x_test,y_test))\n",
        "print(classification_report(y_test, y_pred_svm))\n",
        "print(confusion_matrix(y_test,y_pred_svm))"
      ],
      "execution_count": 70,
      "outputs": [
        {
          "output_type": "stream",
          "name": "stdout",
          "text": [
            "0.8858695652173914\n",
            "              precision    recall  f1-score   support\n",
            "\n",
            "           0       0.89      0.85      0.87        82\n",
            "           1       0.89      0.91      0.90       102\n",
            "\n",
            "    accuracy                           0.89       184\n",
            "   macro avg       0.89      0.88      0.88       184\n",
            "weighted avg       0.89      0.89      0.89       184\n",
            "\n",
            "[[70 12]\n",
            " [ 9 93]]\n"
          ]
        }
      ]
    },
    {
      "cell_type": "markdown",
      "metadata": {
        "id": "kB8yDa5V6iaZ"
      },
      "source": [
        "# Random Forest Algorithm"
      ]
    },
    {
      "cell_type": "code",
      "metadata": {
        "id": "4fU9cLMafgil"
      },
      "source": [
        "randomforest = RandomForestClassifier()\n",
        "randomforest.fit(x_train,y_train)\n",
        "y_pred_rf = randomforest.predict(x_test)"
      ],
      "execution_count": 71,
      "outputs": []
    },
    {
      "cell_type": "code",
      "metadata": {
        "colab": {
          "base_uri": "https://localhost:8080/"
        },
        "id": "41uGX9bKg0ll",
        "outputId": "64a03fb9-18f1-47f0-d99a-d16392c49ff6"
      },
      "source": [
        "print('Train Accuracy %s' % round(accuracy_score(y_test, y_pred_rf),2))\n",
        "print('Train F1-score %s' % f1_score(y_test, y_pred_rf, average=None))\n",
        "print(classification_report(y_test, y_pred_rf))\n",
        "print(\"Confusion Matrix:\\n\",confusion_matrix(y_test, y_pred_rf))"
      ],
      "execution_count": 72,
      "outputs": [
        {
          "output_type": "stream",
          "name": "stdout",
          "text": [
            "Train Accuracy 0.86\n",
            "Train F1-score [0.84146341 0.87254902]\n",
            "              precision    recall  f1-score   support\n",
            "\n",
            "           0       0.84      0.84      0.84        82\n",
            "           1       0.87      0.87      0.87       102\n",
            "\n",
            "    accuracy                           0.86       184\n",
            "   macro avg       0.86      0.86      0.86       184\n",
            "weighted avg       0.86      0.86      0.86       184\n",
            "\n",
            "Confusion Matrix:\n",
            " [[69 13]\n",
            " [13 89]]\n"
          ]
        }
      ]
    },
    {
      "cell_type": "code",
      "metadata": {
        "id": "zytdq8d4ckQ4"
      },
      "source": [
        "knn_acc = []\n",
        "knn_tss = []\n",
        "knn_prec = []\n",
        "knn_tn = []\n",
        "knn_tp = []\n",
        "knn_fn = []\n",
        "knn_fp = []\n",
        "\n",
        "svm_acc = []\n",
        "svm_tss = []\n",
        "svm_prec = []\n",
        "svm_tn = []\n",
        "svm_tp = []\n",
        "svm_fn = []\n",
        "svm_fp = []\n",
        "\n",
        "randmf_acc = []\n",
        "randmf_tss = []\n",
        "randmf_prec = []\n",
        "randmf_tn = []\n",
        "randmf_tp = []\n",
        "randmf_fn = []\n",
        "randmf_fp = []\n",
        "\n",
        "for i in range(0,11):\n",
        "\n",
        "  x_train,x_test,y_train,y_test = train_test_split(X,y,stratify = y , random_state=42,test_size=0.3)\n",
        "  \n",
        "  ## Running KNN Algorithm\n",
        "  knn.fit(x_train,y_train)\n",
        "  y_pred_knn = knn.predict(x_test)\n",
        "\n",
        "  tn, fp, fn, tp = confusion_matrix(y_test, y_pred_knn).ravel()\n",
        "  knn_tn.append(tn)\n",
        "  knn_tp.append(fp)\n",
        "  knn_fn.append(fn)\n",
        "  knn_fp.append(tp)\n",
        "\n",
        "  acck = (tp + tn) / (tn + fp + fn + tp)\n",
        "  tss = (tp / (tp - fn)) - (fp / (fp + tn))\n",
        "  precision = tp / (tp + fp)\n",
        "\n",
        "  knn_acc.append(acck)\n",
        "  knn_tss.append(tss)\n",
        "  knn_prec.append(precision)\n",
        "\n",
        "  ## Running Random Forest Algorithm\n",
        "  randomforest.fit(x_train,y_train)\n",
        "  y_pred_rf = randomforest.predict(x_test)\n",
        "\n",
        "  tn, fp, fn, tp = confusion_matrix(y_test, y_pred_rf).ravel()\n",
        "  randmf_tn.append(tn)\n",
        "  randmf_tp.append(fp)\n",
        "  randmf_fn.append(fn)\n",
        "  randmf_fp.append(tp)\n",
        "\n",
        "  accrf = (tp + tn) / (tn + fp + fn + tp)\n",
        "  tss = (tp / (tp - fn)) - (fp / (fp + tn))\n",
        "  precision = tp / (tp + fp)\n",
        "\n",
        "  randmf_acc.append(accrf)\n",
        "  randmf_tss.append(tss)\n",
        "  randmf_prec.append(precision)\n",
        "\n",
        "  ## Running SVM Algorithm\n",
        "  classifier.fit(x_train, y_train)\n",
        "  y_pred_svm = classifier.predict(x_test)\n",
        "\n",
        "  tn, fp, fn, tp = confusion_matrix(y_test, y_pred_svm).ravel()\n",
        "  svm_tn.append(tn)\n",
        "  svm_tp.append(fp)\n",
        "  svm_fn.append(fn)\n",
        "  svm_fp.append(tp)\n",
        "\n",
        "  accs = (tp + tn) / (tn + fp + fn + tp)\n",
        "  tss = (tp / (tp - fn)) - (fp / (fp + tn))\n",
        "  precision = tp / (tp + fp)\n",
        "\n",
        "  svm_acc.append(accs)\n",
        "  svm_tss.append(tss)\n",
        "  svm_prec.append(precision)"
      ],
      "execution_count": 73,
      "outputs": []
    },
    {
      "cell_type": "code",
      "metadata": {
        "id": "moLFN3tik2_W"
      },
      "source": [
        "## Average: \n",
        "avg_knn_acc = sum(knn_acc) / len(knn_acc)\n",
        "avg_knn_tss = sum(knn_tss) / len(knn_tss)\n",
        "avg_knn_prec = sum(knn_prec) / len(knn_prec)\n",
        "avg_knn_tn = sum(knn_tn) / len(knn_tn)\n",
        "avg_knn_tp = sum(knn_tp) / len(knn_tp)\n",
        "avg_knn_fn = sum(knn_fn) / len(knn_fn)\n",
        "avg_knn_fp = sum(knn_fp) / len(knn_fp)\n"
      ],
      "execution_count": 74,
      "outputs": []
    },
    {
      "cell_type": "code",
      "metadata": {
        "id": "grI7JLb5kXVx"
      },
      "source": [
        "## Average: \n",
        "avg_svm_acc = sum(svm_acc) / len(svm_acc)\n",
        "avg_svm_tss = sum(svm_tss) / len(svm_tss)\n",
        "avg_svm_prec = sum(svm_prec) / len(svm_prec)\n",
        "avg_svm_tn = sum(svm_tn) / len(svm_tn)\n",
        "avg_svm_tp = sum(svm_tp) / len(svm_tp)\n",
        "avg_svm_fn = sum(svm_fn) / len(svm_fn)\n",
        "avg_svm_fp = sum(svm_fp) / len(svm_fp)"
      ],
      "execution_count": 75,
      "outputs": []
    },
    {
      "cell_type": "code",
      "metadata": {
        "id": "sJU4T8xlkXYL"
      },
      "source": [
        "## Average: \n",
        "avg_randmf_acc = sum(randmf_acc) / len(randmf_acc)\n",
        "avg_randmf_tss = sum(randmf_tss) / len(randmf_tss)\n",
        "avg_randmf_prec = sum(randmf_prec) / len(randmf_prec)\n",
        "avg_randmf_tn = sum(randmf_tn) / len(randmf_tn)\n",
        "avg_randmf_tp = sum(randmf_tp) / len(randmf_tp)\n",
        "avg_randmf_fn = sum(randmf_fn) / len(randmf_fn)\n",
        "avg_randmf_fp = sum(randmf_fp) / len(randmf_fp)"
      ],
      "execution_count": 76,
      "outputs": []
    },
    {
      "cell_type": "code",
      "metadata": {
        "id": "lTx94iUlstjc"
      },
      "source": [
        "table_cols = {'Algorithm' : ['KNN' , 'SVM' , 'Random Forest'] , 'TP' : [avg_knn_tp , avg_svm_tp , avg_randmf_tp] , 'FP' : [avg_knn_fp, avg_svm_fp, avg_randmf_fp] , 'FN' : [avg_knn_fn, avg_svm_fn, avg_randmf_fn] , 'TN' : [avg_knn_tn, avg_svm_tn, avg_randmf_tn] , 'ACC' : [avg_knn_acc, avg_svm_acc, avg_randmf_acc], 'TSS' : [avg_knn_tss , avg_svm_tss, avg_randmf_tss] , 'Precision' : [avg_knn_prec, avg_svm_prec, avg_randmf_prec]}\n"
      ],
      "execution_count": 77,
      "outputs": []
    },
    {
      "cell_type": "code",
      "metadata": {
        "id": "KL2uMTfUy1mS"
      },
      "source": [
        "table_cols1 = pd.DataFrame.from_dict(table_cols)"
      ],
      "execution_count": 80,
      "outputs": []
    },
    {
      "cell_type": "code",
      "metadata": {
        "colab": {
          "base_uri": "https://localhost:8080/",
          "height": 143
        },
        "id": "1mLEfP2Ey3lV",
        "outputId": "63b02ca1-f319-46d4-af51-152546b644a2"
      },
      "source": [
        "table_cols1"
      ],
      "execution_count": 79,
      "outputs": [
        {
          "output_type": "execute_result",
          "data": {
            "text/html": [
              "<div>\n",
              "<style scoped>\n",
              "    .dataframe tbody tr th:only-of-type {\n",
              "        vertical-align: middle;\n",
              "    }\n",
              "\n",
              "    .dataframe tbody tr th {\n",
              "        vertical-align: top;\n",
              "    }\n",
              "\n",
              "    .dataframe thead th {\n",
              "        text-align: right;\n",
              "    }\n",
              "</style>\n",
              "<table border=\"1\" class=\"dataframe\">\n",
              "  <thead>\n",
              "    <tr style=\"text-align: right;\">\n",
              "      <th></th>\n",
              "      <th>Algorithm</th>\n",
              "      <th>TP</th>\n",
              "      <th>FP</th>\n",
              "      <th>FN</th>\n",
              "      <th>TN</th>\n",
              "      <th>ACC</th>\n",
              "      <th>TSS</th>\n",
              "      <th>Precision</th>\n",
              "    </tr>\n",
              "  </thead>\n",
              "  <tbody>\n",
              "    <tr>\n",
              "      <th>0</th>\n",
              "      <td>KNN</td>\n",
              "      <td>18.000000</td>\n",
              "      <td>137.000000</td>\n",
              "      <td>16.000000</td>\n",
              "      <td>105.000000</td>\n",
              "      <td>0.876812</td>\n",
              "      <td>0.985890</td>\n",
              "      <td>0.883871</td>\n",
              "    </tr>\n",
              "    <tr>\n",
              "      <th>1</th>\n",
              "      <td>SVM</td>\n",
              "      <td>14.000000</td>\n",
              "      <td>143.000000</td>\n",
              "      <td>10.000000</td>\n",
              "      <td>109.000000</td>\n",
              "      <td>0.913043</td>\n",
              "      <td>0.961367</td>\n",
              "      <td>0.910828</td>\n",
              "    </tr>\n",
              "    <tr>\n",
              "      <th>2</th>\n",
              "      <td>Random Forest</td>\n",
              "      <td>15.818182</td>\n",
              "      <td>139.818182</td>\n",
              "      <td>13.181818</td>\n",
              "      <td>107.181818</td>\n",
              "      <td>0.894928</td>\n",
              "      <td>0.975593</td>\n",
              "      <td>0.898436</td>\n",
              "    </tr>\n",
              "  </tbody>\n",
              "</table>\n",
              "</div>"
            ],
            "text/plain": [
              "       Algorithm         TP          FP  ...       ACC       TSS  Precision\n",
              "0            KNN  18.000000  137.000000  ...  0.876812  0.985890   0.883871\n",
              "1            SVM  14.000000  143.000000  ...  0.913043  0.961367   0.910828\n",
              "2  Random Forest  15.818182  139.818182  ...  0.894928  0.975593   0.898436\n",
              "\n",
              "[3 rows x 8 columns]"
            ]
          },
          "metadata": {},
          "execution_count": 79
        }
      ]
    },
    {
      "cell_type": "code",
      "metadata": {
        "id": "9wjFMzH-zvKo"
      },
      "source": [
        ""
      ],
      "execution_count": 79,
      "outputs": []
    }
  ]
}